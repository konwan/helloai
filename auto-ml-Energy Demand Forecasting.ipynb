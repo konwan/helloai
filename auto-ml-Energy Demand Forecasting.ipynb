{
 "cells": [
  {
   "cell_type": "markdown",
   "metadata": {},
   "source": [
    "Copyright (c) Microsoft Corporation. All rights reserved.\n",
    "\n",
    "Licensed under the MIT License."
   ]
  },
  {
   "cell_type": "markdown",
   "metadata": {},
   "source": [
    "# <font color = \"blue\"> Read the commentary in the note book to follow, especially pay attention to </font> <font color =\"red\"> Red Text in \"Action Required\" Cells </font>"
   ]
  },
  {
   "cell_type": "markdown",
   "metadata": {},
   "source": [
    "# How to use Jupyter\n",
    "In this workshop we will be using Jupyter notebooks hosted by Azure Notebooks Service. If you are familiar with Jupyter, skip this. If not, here are a few tips\n",
    "\n",
    ">* Select the Kernet Python 3.6\n",
    ">* Jupyter has 'cells'. When you click on anywhere in the notebook, the cell containing the pointer gets selected.\n",
    ">* To run or execute the code in the cell - on the top menu select Cell->Run Cells. Alternatively you can use 'Shift+Enter' keys.\n",
    ">* To Edit cell - Double click the cell\n",
    ">* When you run a cell, the pointer pointing just outside on the left side of the cell will change from [] to [*] (inserts * in the square brackets). When the cell finished executing the '*' changes to a number.\n",
    ">* If the notebook or cell hangs, select from the top menu Kernel->Restart & Clear output for the entire notebook or Kernel->Interrupt for just that cell. Restart will take a few seconds and you would need to reexecute all the cells.\n",
    ">* In Jupyter you do not need to execute in sequence. You can go back to a previous cell that was already executed and execute again. As long as there are no dependencies that messes up the code in that particular cell, you will be fine."
   ]
  },
  {
   "cell_type": "markdown",
   "metadata": {},
   "source": [
    "# Automated Machine Learning: Energy Demand Forecasting\n",
    "In this example, we show how auomated ML can be used for energy demand forecasting. This notebook is for demonstration purpose only.\n",
    "\n",
    "## Use case overview:\n",
    "\n",
    "This scenario focuses on energy demand forecasting where the goal is to predict the future load on an energy grid. It is a critical business operation for companies in the energy sector as operators need to maintain the fine balance between the energy consumed on a grid and the energy supplied to it. Too much power supplied to the grid can result in waste of energy or technical faults. However, if too little power is supplied it can lead to blackouts, leaving customers without power. Typically, grid operators can take short-term decisions to manage energy supply to the grid and keep the load in balance. An accurate short-term forecast of energy demand is therefore essential for the operator to make these decisions with confidence.\n",
    "\n",
    "This scenario details the construction of a machine learning energy demand forecasting solution. The solution is trained on a public dataset from the New York Independent System Operator (NYISO), which operates the power grid for New York State. The dataset includes hourly power demand data for New York City over a period of five years. An additional dataset containing hourly weather conditions in New York City over the same time period was taken from darksky.net.\n",
    "\n",
    "In this notebook you would perform\n",
    "\n",
    "</n><font color = \"blue\"> Sections 0 through 2: By the end of section 2, you would have built a Machine Learning model for the above dataset. </font>\n",
    "0. Basic Setup: You would need to create an Azure Machine Learning workspace to start with. You can do that in Azure Portal or through SDK. The workspace can be shared with your team mates to collaborate on the scripts. You would create an workspace one time and run multiple experiments and build many models.\n",
    "\n",
    "1. Prepare the data: Prepare the data for training.\n",
    "\n",
    "2. Train an automated ML model: We will use Azure Notebooks to train models with automated ML generated pipeline parameters.\n",
    "\n",
    "</n><font color = \"blue\"> Sections 3 through 4: Shows how to scale machine learning model building in the cloud. In the process, we will walk through some of the configuration parameters and controls you get with automated ML. </font>\n",
    "\n",
    "3. Prepare the data for Cloud\n",
    "\n",
    "4. Training Models using Azure Data Science Virtual Machine similar to section 2. However DSVM enables us to run many more runs\n",
    "\n",
    "</n> <font color =\"blue\">Section 5, 6, 7 show post model building activities such as exploring all the models built by AutoML, testing the model etc. </font>\n",
    "\n",
    "5. Explore the results Inspect various way to get all the models built, Many different model metrics\n",
    "\n",
    "6. Testing the fitted model with some test data\n",
    "\n",
    "7. Register the model for deployment and get ready for deployment into Azure Machine Learning model management and deployment hosting\n",
    "\n",
    "</n> <font color =\"blue\">Section 8 is optional if you have time continue with these </font>\n",
    "8. How do I use it when I leave this session and go back to my work / home(Local Setup)\n",
    "9. Training the model using Azure BatchAI"
   ]
  },
  {
   "cell_type": "markdown",
   "metadata": {},
   "source": [
    "# Section 0\n",
    "In this section, an automated machine learning (automl) Experiment and a Project Folder where all the configuration files are written are setup."
   ]
  },
  {
   "cell_type": "markdown",
   "metadata": {},
   "source": [
    "## 0.1 Create Experiment\n",
    "\n",
    "First we will verify you have the latest SDK and update if needed. \n",
    "\n",
    "As part of the setup we will create a <b>Workspace</b>.An Azure ML workspace is an Azure resource that organizes and coordinates the actions of many other Azure resources to assist in executing and sharing machine learning workflows. In particular, an Azure ML workspace coordinates storage, databases, and compute resources providing added functionality for machine learning experimentation, operationalization, and the monitoring of operationalized models.\n",
    "<p>\n",
    "For AutoML you would need to create an <b>Experiment</b>. An <b>Experiment</b> is a named object in a <b>Workspace</b>, which is used to run experiments. The <b>resource group</b> name. \n",
    "<p>\n",
    "The resource group organizes Azure resources and provides a default region for the resources in the group. The resource group will be created if it doesn't exist. Resource groups can be created and viewed in the [Azure portal](https://portal.azure.com)"
   ]
  },
  {
   "cell_type": "code",
   "execution_count": 1,
   "metadata": {},
   "outputs": [
    {
     "name": "stdout",
     "output_type": "stream",
     "text": [
      "SDK Version: 1.0.0\n"
     ]
    }
   ],
   "source": [
    "import azureml.core\n",
    "print(\"SDK Version:\", azureml.core.VERSION)"
   ]
  },
  {
   "cell_type": "markdown",
   "metadata": {},
   "source": [
    "You <b>only</b> need to execute the cell <font color = \"red\"> <b>below</b></font> if you have SDK version less then 1.0.0"
   ]
  },
  {
   "cell_type": "code",
   "execution_count": 1,
   "metadata": {},
   "outputs": [
    {
     "name": "stdout",
     "output_type": "stream",
     "text": [
      "Collecting azureml-train-automl\n",
      "\u001b[?25l  Downloading https://files.pythonhosted.org/packages/1b/ae/23bb5258841f5e8a1bb49ab3d2ac24c2c1ca1a9923ae69699a1ecfcd9619/azureml_train_automl-0.1.80-py3-none-any.whl (178kB)\n",
      "\u001b[K    100% |████████████████████████████████| 184kB 8.3MB/s ta 0:00:01\n",
      "\u001b[?25hRequirement already satisfied, skipping upgrade: sklearn-pandas<=1.7.0,>=1.4.0 in /home/nbuser/anaconda3_501/lib/python3.6/site-packages (from azureml-train-automl) (1.7.0)\n",
      "Collecting azureml-dataprep<0.6.0,>=0.4.0 (from azureml-train-automl)\n",
      "\u001b[?25l  Downloading https://files.pythonhosted.org/packages/09/e8/70bdc4f94d932b28bea3ff6c89413371104f400cd8a813b27f9d84e3824a/azureml_dataprep-0.5.1-py3-none-any.whl (15.1MB)\n",
      "\u001b[K    100% |████████████████████████████████| 15.1MB 273kB/s eta 0:00:01   16% |█████▎                          | 2.5MB 31.5MB/s eta 0:00:01\n",
      "\u001b[?25hRequirement already satisfied, skipping upgrade: scikit-learn<=0.19.1,>=0.18.0 in /home/nbuser/anaconda3_501/lib/python3.6/site-packages (from azureml-train-automl) (0.19.1)\n",
      "Requirement already satisfied, skipping upgrade: pandas<=0.23.4,>=0.20.1 in /home/nbuser/anaconda3_501/lib/python3.6/site-packages (from azureml-train-automl) (0.22.0)\n",
      "Requirement already satisfied, skipping upgrade: lightgbm<=2.2.1,>=2.0.11 in /home/nbuser/anaconda3_501/lib/python3.6/site-packages (from azureml-train-automl) (2.2.1)\n",
      "Collecting azureml-core==0.1.80.* (from azureml-train-automl)\n",
      "\u001b[?25l  Downloading https://files.pythonhosted.org/packages/e7/a3/8789ed59f632e027cc2ac9301cd78e36b6b0846c44722e96b340418f1468/azureml_core-0.1.80-py2.py3-none-any.whl (805kB)\n",
      "\u001b[K    100% |████████████████████████████████| 808kB 21.5MB/s ta 0:00:01\n",
      "\u001b[?25hRequirement already satisfied, skipping upgrade: numpy==1.14.5 in /home/nbuser/anaconda3_501/lib/python3.6/site-packages (from azureml-train-automl) (1.14.5)\n",
      "Requirement already satisfied, skipping upgrade: scipy<=1.1.0,>=1.0.0 in /home/nbuser/anaconda3_501/lib/python3.6/site-packages (from azureml-train-automl) (1.1.0)\n",
      "Requirement already satisfied, skipping upgrade: pytz<=2018.5 in /home/nbuser/anaconda3_501/lib/python3.6/site-packages (from azureml-train-automl) (2018.5)\n",
      "Requirement already satisfied, skipping upgrade: resource>=0.1.8 in /home/nbuser/anaconda3_501/lib/python3.6/site-packages (from azureml-train-automl) (0.2.1)\n",
      "Requirement already satisfied, skipping upgrade: wheel==0.30.0 in /home/nbuser/anaconda3_501/lib/python3.6/site-packages (from azureml-train-automl) (0.30.0)\n",
      "Requirement already satisfied, skipping upgrade: tensorflow==1.10.0 in /home/nbuser/anaconda3_501/lib/python3.6/site-packages (from azureml-train-automl) (1.10.0)\n",
      "Collecting azureml-telemetry==0.1.80.* (from azureml-train-automl)\n",
      "  Downloading https://files.pythonhosted.org/packages/f2/9e/fb6c4e5a9b183e8a85562d15a4419ba077832a4551895c940cab89396202/azureml_telemetry-0.1.80-py3-none-any.whl\n",
      "Collecting dotnetcore2==2.1.5 (from azureml-dataprep<0.6.0,>=0.4.0->azureml-train-automl)\n",
      "\u001b[?25l  Downloading https://files.pythonhosted.org/packages/05/68/bbd6076a04dc386fa463e1f78f605995fb85a04b4603da7b0d6459e645b8/dotnetcore2-2.1.5-py3-none-manylinux1_x86_64.whl (28.7MB)\n",
      "\u001b[K    100% |████████████████████████████████| 28.7MB 158kB/s eta 0:00:01\n",
      "\u001b[?25hCollecting azureml-dataprep-native<12.0.0,>=11.1.1 (from azureml-dataprep<0.6.0,>=0.4.0->azureml-train-automl)\n",
      "\u001b[?25l  Downloading https://files.pythonhosted.org/packages/d5/dd/6f099e1e750156d44264699fc36a00496a555cf26b2d226c62e7428b2b7b/azureml_dataprep_native-11.1.1-cp36-cp36m-manylinux1_x86_64.whl (1.3MB)\n",
      "\u001b[K    100% |████████████████████████████████| 1.3MB 12.3MB/s ta 0:00:01\n",
      "\u001b[?25hRequirement already satisfied, skipping upgrade: python-dateutil>=2 in /home/nbuser/anaconda3_501/lib/python3.6/site-packages (from pandas<=0.23.4,>=0.20.1->azureml-train-automl) (2.7.3)\n",
      "Requirement already satisfied, skipping upgrade: backports.tempfile in /home/nbuser/anaconda3_501/lib/python3.6/site-packages (from azureml-core==0.1.80.*->azureml-train-automl) (1.0)\n",
      "Requirement already satisfied, skipping upgrade: requests>=2.19.1 in /home/nbuser/anaconda3_501/lib/python3.6/site-packages (from azureml-core==0.1.80.*->azureml-train-automl) (2.19.1)\n",
      "Requirement already satisfied, skipping upgrade: azure-cli-core>=2.0.38 in /home/nbuser/anaconda3_501/lib/python3.6/site-packages (from azureml-core==0.1.80.*->azureml-train-automl) (2.0.50)\n",
      "Requirement already satisfied, skipping upgrade: azure-cli-profile>=2.0.26 in /home/nbuser/anaconda3_501/lib/python3.6/site-packages (from azureml-core==0.1.80.*->azureml-train-automl) (2.1.2)\n",
      "Requirement already satisfied, skipping upgrade: docker in /home/nbuser/anaconda3_501/lib/python3.6/site-packages (from azureml-core==0.1.80.*->azureml-train-automl) (3.5.1)\n",
      "Requirement already satisfied, skipping upgrade: cryptography!=1.9,!=2.0.*,!=2.1.*,!=2.2.* in /home/nbuser/anaconda3_501/lib/python3.6/site-packages (from azureml-core==0.1.80.*->azureml-train-automl) (2.3.1)\n",
      "Requirement already satisfied, skipping upgrade: azure-mgmt-keyvault>=0.40.0 in /home/nbuser/anaconda3_501/lib/python3.6/site-packages (from azureml-core==0.1.80.*->azureml-train-automl) (1.1.0)\n",
      "Requirement already satisfied, skipping upgrade: azure-storage-common>=1.1.0 in /home/nbuser/anaconda3_501/lib/python3.6/site-packages (from azureml-core==0.1.80.*->azureml-train-automl) (1.4.0)\n",
      "Requirement already satisfied, skipping upgrade: azure-mgmt-containerregistry>=2.0.0 in /home/nbuser/anaconda3_501/lib/python3.6/site-packages (from azureml-core==0.1.80.*->azureml-train-automl) (2.4.0)\n",
      "Requirement already satisfied, skipping upgrade: azure-mgmt-storage>=1.5.0 in /home/nbuser/anaconda3_501/lib/python3.6/site-packages (from azureml-core==0.1.80.*->azureml-train-automl) (3.0.0)\n",
      "Requirement already satisfied, skipping upgrade: PyJWT in /home/nbuser/anaconda3_501/lib/python3.6/site-packages (from azureml-core==0.1.80.*->azureml-train-automl) (1.6.4)\n",
      "Requirement already satisfied, skipping upgrade: contextlib2 in /home/nbuser/anaconda3_501/lib/python3.6/site-packages (from azureml-core==0.1.80.*->azureml-train-automl) (0.5.5)\n",
      "Requirement already satisfied, skipping upgrade: azure-storage-nspkg>=3.0.0 in /home/nbuser/anaconda3_501/lib/python3.6/site-packages (from azureml-core==0.1.80.*->azureml-train-automl) (3.1.0)\n",
      "Requirement already satisfied, skipping upgrade: azure-storage-blob>=1.1.0 in /home/nbuser/anaconda3_501/lib/python3.6/site-packages (from azureml-core==0.1.80.*->azureml-train-automl) (1.4.0)\n",
      "Requirement already satisfied, skipping upgrade: jsonpickle in /home/nbuser/anaconda3_501/lib/python3.6/site-packages (from azureml-core==0.1.80.*->azureml-train-automl) (1.0)\n",
      "Requirement already satisfied, skipping upgrade: azure-mgmt-authorization>=0.40.0 in /home/nbuser/anaconda3_501/lib/python3.6/site-packages (from azureml-core==0.1.80.*->azureml-train-automl) (0.50.0)\n",
      "Requirement already satisfied, skipping upgrade: msrestazure>=0.4.33 in /home/nbuser/anaconda3_501/lib/python3.6/site-packages (from azureml-core==0.1.80.*->azureml-train-automl) (0.5.1)\n",
      "Requirement already satisfied, skipping upgrade: azure-graphrbac>=0.40.0 in /home/nbuser/anaconda3_501/lib/python3.6/site-packages (from azureml-core==0.1.80.*->azureml-train-automl) (0.52.0)\n",
      "Requirement already satisfied, skipping upgrade: msrest>=0.5.1 in /home/nbuser/anaconda3_501/lib/python3.6/site-packages (from azureml-core==0.1.80.*->azureml-train-automl) (0.6.1)\n",
      "Requirement already satisfied, skipping upgrade: azure-mgmt-resource>=1.2.1 in /home/nbuser/anaconda3_501/lib/python3.6/site-packages (from azureml-core==0.1.80.*->azureml-train-automl) (2.0.0)\n",
      "Requirement already satisfied, skipping upgrade: ruamel.yaml<=0.15.51,>=0.15.35 in /home/nbuser/anaconda3_501/lib/python3.6/site-packages (from azureml-core==0.1.80.*->azureml-train-automl) (0.15.51)\n",
      "Requirement already satisfied, skipping upgrade: azure-common>=1.1.12 in /home/nbuser/anaconda3_501/lib/python3.6/site-packages (from azureml-core==0.1.80.*->azureml-train-automl) (1.1.16)\n",
      "Requirement already satisfied, skipping upgrade: pathspec in /home/nbuser/anaconda3_501/lib/python3.6/site-packages (from azureml-core==0.1.80.*->azureml-train-automl) (0.5.9)\n",
      "Requirement already satisfied, skipping upgrade: six>=1.11.0 in /home/nbuser/anaconda3_501/lib/python3.6/site-packages (from azureml-core==0.1.80.*->azureml-train-automl) (1.11.0)\n",
      "Requirement already satisfied, skipping upgrade: SecretStorage<3.0.0 in /home/nbuser/anaconda3_501/lib/python3.6/site-packages (from azureml-core==0.1.80.*->azureml-train-automl) (2.3.1)\n",
      "Requirement already satisfied, skipping upgrade: urllib3<1.24,>=1.23 in /home/nbuser/anaconda3_501/lib/python3.6/site-packages (from azureml-core==0.1.80.*->azureml-train-automl) (1.23)\n",
      "Requirement already satisfied, skipping upgrade: ndg-httpsclient in /home/nbuser/anaconda3_501/lib/python3.6/site-packages (from azureml-core==0.1.80.*->azureml-train-automl) (0.5.1)\n",
      "Requirement already satisfied, skipping upgrade: python-easyconfig>=0.1.0 in /home/nbuser/anaconda3_501/lib/python3.6/site-packages (from resource>=0.1.8->azureml-train-automl) (0.1.7)\n",
      "Requirement already satisfied, skipping upgrade: JsonForm>=0.0.2 in /home/nbuser/anaconda3_501/lib/python3.6/site-packages (from resource>=0.1.8->azureml-train-automl) (0.0.2)\n"
     ]
    },
    {
     "name": "stdout",
     "output_type": "stream",
     "text": [
      "Requirement already satisfied, skipping upgrade: JsonSir>=0.0.2 in /home/nbuser/anaconda3_501/lib/python3.6/site-packages (from resource>=0.1.8->azureml-train-automl) (0.0.2)\n",
      "Requirement already satisfied, skipping upgrade: termcolor>=1.1.0 in /home/nbuser/anaconda3_501/lib/python3.6/site-packages (from tensorflow==1.10.0->azureml-train-automl) (1.1.0)\n",
      "Requirement already satisfied, skipping upgrade: astor>=0.6.0 in /home/nbuser/anaconda3_501/lib/python3.6/site-packages (from tensorflow==1.10.0->azureml-train-automl) (0.7.1)\n",
      "Requirement already satisfied, skipping upgrade: absl-py>=0.1.6 in /home/nbuser/anaconda3_501/lib/python3.6/site-packages (from tensorflow==1.10.0->azureml-train-automl) (0.6.1)\n",
      "Requirement already satisfied, skipping upgrade: tensorboard<1.11.0,>=1.10.0 in /home/nbuser/anaconda3_501/lib/python3.6/site-packages (from tensorflow==1.10.0->azureml-train-automl) (1.10.0)\n",
      "Requirement already satisfied, skipping upgrade: protobuf>=3.6.0 in /home/nbuser/anaconda3_501/lib/python3.6/site-packages (from tensorflow==1.10.0->azureml-train-automl) (3.6.0)\n",
      "Requirement already satisfied, skipping upgrade: grpcio>=1.8.6 in /home/nbuser/anaconda3_501/lib/python3.6/site-packages (from tensorflow==1.10.0->azureml-train-automl) (1.16.0)\n",
      "Collecting setuptools<=39.1.0 (from tensorflow==1.10.0->azureml-train-automl)\n",
      "\u001b[?25l  Downloading https://files.pythonhosted.org/packages/8c/10/79282747f9169f21c053c562a0baa21815a8c7879be97abd930dbcf862e8/setuptools-39.1.0-py2.py3-none-any.whl (566kB)\n",
      "\u001b[K    100% |████████████████████████████████| 573kB 12.9MB/s ta 0:00:01\n",
      "\u001b[?25hRequirement already satisfied, skipping upgrade: gast>=0.2.0 in /home/nbuser/anaconda3_501/lib/python3.6/site-packages (from tensorflow==1.10.0->azureml-train-automl) (0.2.0)\n",
      "Requirement already satisfied, skipping upgrade: applicationinsights in /home/nbuser/anaconda3_501/lib/python3.6/site-packages (from azureml-telemetry==0.1.80.*->azureml-train-automl) (0.11.7)\n",
      "Requirement already satisfied, skipping upgrade: distro>=1.2.0 in /home/nbuser/anaconda3_501/lib/python3.6/site-packages (from dotnetcore2==2.1.5->azureml-dataprep<0.6.0,>=0.4.0->azureml-train-automl) (1.2.0)\n",
      "Requirement already satisfied, skipping upgrade: backports.weakref in /home/nbuser/anaconda3_501/lib/python3.6/site-packages (from backports.tempfile->azureml-core==0.1.80.*->azureml-train-automl) (1.0rc1)\n",
      "Requirement already satisfied, skipping upgrade: chardet<3.1.0,>=3.0.2 in /home/nbuser/anaconda3_501/lib/python3.6/site-packages (from requests>=2.19.1->azureml-core==0.1.80.*->azureml-train-automl) (3.0.4)\n",
      "Requirement already satisfied, skipping upgrade: idna<2.8,>=2.5 in /home/nbuser/anaconda3_501/lib/python3.6/site-packages (from requests>=2.19.1->azureml-core==0.1.80.*->azureml-train-automl) (2.7)\n",
      "Requirement already satisfied, skipping upgrade: certifi>=2017.4.17 in /home/nbuser/anaconda3_501/lib/python3.6/site-packages (from requests>=2.19.1->azureml-core==0.1.80.*->azureml-train-automl) (2018.8.24)\n",
      "Requirement already satisfied, skipping upgrade: adal>=1.2.0 in /home/nbuser/anaconda3_501/lib/python3.6/site-packages (from azure-cli-core>=2.0.38->azureml-core==0.1.80.*->azureml-train-automl) (1.2.0)\n",
      "Requirement already satisfied, skipping upgrade: azure-cli-nspkg>=2.0.0 in /home/nbuser/anaconda3_501/lib/python3.6/site-packages (from azure-cli-core>=2.0.38->azureml-core==0.1.80.*->azureml-train-automl) (3.0.3)\n",
      "Requirement already satisfied, skipping upgrade: azure-cli-telemetry in /home/nbuser/anaconda3_501/lib/python3.6/site-packages (from azure-cli-core>=2.0.38->azureml-core==0.1.80.*->azureml-train-automl) (1.0.0)\n",
      "Requirement already satisfied, skipping upgrade: pip in /home/nbuser/anaconda3_501/lib/python3.6/site-packages (from azure-cli-core>=2.0.38->azureml-core==0.1.80.*->azureml-train-automl) (18.1)\n",
      "Requirement already satisfied, skipping upgrade: knack==0.4.5 in /home/nbuser/anaconda3_501/lib/python3.6/site-packages (from azure-cli-core>=2.0.38->azureml-core==0.1.80.*->azureml-train-automl) (0.4.5)\n",
      "Requirement already satisfied, skipping upgrade: antlr4-python3-runtime; python_version >= \"3.0\" in /home/nbuser/anaconda3_501/lib/python3.6/site-packages (from azure-cli-core>=2.0.38->azureml-core==0.1.80.*->azureml-train-automl) (4.7.1)\n",
      "Requirement already satisfied, skipping upgrade: paramiko>=2.0.8 in /home/nbuser/anaconda3_501/lib/python3.6/site-packages (from azure-cli-core>=2.0.38->azureml-core==0.1.80.*->azureml-train-automl) (2.4.2)\n",
      "Requirement already satisfied, skipping upgrade: colorama>=0.3.9 in /home/nbuser/anaconda3_501/lib/python3.6/site-packages (from azure-cli-core>=2.0.38->azureml-core==0.1.80.*->azureml-train-automl) (0.3.9)\n",
      "Requirement already satisfied, skipping upgrade: pyyaml~=3.13 in /home/nbuser/anaconda3_501/lib/python3.6/site-packages (from azure-cli-core>=2.0.38->azureml-core==0.1.80.*->azureml-train-automl) (3.13)\n",
      "Requirement already satisfied, skipping upgrade: jmespath in /home/nbuser/anaconda3_501/lib/python3.6/site-packages (from azure-cli-core>=2.0.38->azureml-core==0.1.80.*->azureml-train-automl) (0.9.3)\n",
      "Requirement already satisfied, skipping upgrade: argcomplete>=1.8.0 in /home/nbuser/anaconda3_501/lib/python3.6/site-packages (from azure-cli-core>=2.0.38->azureml-core==0.1.80.*->azureml-train-automl) (1.9.4)\n",
      "Requirement already satisfied, skipping upgrade: tabulate<=0.8.2,>=0.7.7 in /home/nbuser/anaconda3_501/lib/python3.6/site-packages (from azure-cli-core>=2.0.38->azureml-core==0.1.80.*->azureml-train-automl) (0.8.2)\n",
      "Requirement already satisfied, skipping upgrade: pygments in /home/nbuser/anaconda3_501/lib/python3.6/site-packages (from azure-cli-core>=2.0.38->azureml-core==0.1.80.*->azureml-train-automl) (2.2.0)\n",
      "Requirement already satisfied, skipping upgrade: pyopenssl>=17.1.0 in /home/nbuser/anaconda3_501/lib/python3.6/site-packages (from azure-cli-core>=2.0.38->azureml-core==0.1.80.*->azureml-train-automl) (18.0.0)\n",
      "Requirement already satisfied, skipping upgrade: humanfriendly>=4.7 in /home/nbuser/anaconda3_501/lib/python3.6/site-packages (from azure-cli-core>=2.0.38->azureml-core==0.1.80.*->azureml-train-automl) (4.17)\n",
      "Requirement already satisfied, skipping upgrade: azure-cli-command-modules-nspkg>=2.0.0 in /home/nbuser/anaconda3_501/lib/python3.6/site-packages (from azure-cli-profile>=2.0.26->azureml-core==0.1.80.*->azureml-train-automl) (2.0.2)\n",
      "Requirement already satisfied, skipping upgrade: websocket-client>=0.32.0 in /home/nbuser/anaconda3_501/lib/python3.6/site-packages (from docker->azureml-core==0.1.80.*->azureml-train-automl) (0.54.0)\n",
      "Requirement already satisfied, skipping upgrade: docker-pycreds>=0.3.0 in /home/nbuser/anaconda3_501/lib/python3.6/site-packages (from docker->azureml-core==0.1.80.*->azureml-train-automl) (0.3.0)\n",
      "Requirement already satisfied, skipping upgrade: asn1crypto>=0.21.0 in /home/nbuser/anaconda3_501/lib/python3.6/site-packages (from cryptography!=1.9,!=2.0.*,!=2.1.*,!=2.2.*->azureml-core==0.1.80.*->azureml-train-automl) (0.24.0)\n",
      "Requirement already satisfied, skipping upgrade: cffi!=1.11.3,>=1.7 in /home/nbuser/anaconda3_501/lib/python3.6/site-packages (from cryptography!=1.9,!=2.0.*,!=2.1.*,!=2.2.*->azureml-core==0.1.80.*->azureml-train-automl) (1.11.5)\n",
      "Requirement already satisfied, skipping upgrade: azure-mgmt-nspkg>=2.0.0 in /home/nbuser/anaconda3_501/lib/python3.6/site-packages (from azure-mgmt-keyvault>=0.40.0->azureml-core==0.1.80.*->azureml-train-automl) (3.0.2)\n",
      "Requirement already satisfied, skipping upgrade: azure-nspkg>=2.0.0 in /home/nbuser/anaconda3_501/lib/python3.6/site-packages (from azure-storage-nspkg>=3.0.0->azureml-core==0.1.80.*->azureml-train-automl) (3.0.2)\n",
      "Requirement already satisfied, skipping upgrade: requests-oauthlib>=0.5.0 in /home/nbuser/anaconda3_501/lib/python3.6/site-packages (from msrest>=0.5.1->azureml-core==0.1.80.*->azureml-train-automl) (1.0.0)\n",
      "Requirement already satisfied, skipping upgrade: isodate>=0.6.0 in /home/nbuser/anaconda3_501/lib/python3.6/site-packages (from msrest>=0.5.1->azureml-core==0.1.80.*->azureml-train-automl) (0.6.0)\n",
      "Requirement already satisfied, skipping upgrade: pyasn1>=0.1.1 in /home/nbuser/anaconda3_501/lib/python3.6/site-packages (from ndg-httpsclient->azureml-core==0.1.80.*->azureml-train-automl) (0.4.4)\n",
      "Requirement already satisfied, skipping upgrade: jsonschema in /home/nbuser/anaconda3_501/lib/python3.6/site-packages (from JsonForm>=0.0.2->resource>=0.1.8->azureml-train-automl) (2.6.0)\n",
      "Requirement already satisfied, skipping upgrade: werkzeug>=0.11.10 in /home/nbuser/anaconda3_501/lib/python3.6/site-packages (from tensorboard<1.11.0,>=1.10.0->tensorflow==1.10.0->azureml-train-automl) (0.14.1)\n",
      "Requirement already satisfied, skipping upgrade: markdown>=2.6.8 in /home/nbuser/anaconda3_501/lib/python3.6/site-packages (from tensorboard<1.11.0,>=1.10.0->tensorflow==1.10.0->azureml-train-automl) (2.6.11)\n",
      "Requirement already satisfied, skipping upgrade: portalocker==1.2.1 in /home/nbuser/anaconda3_501/lib/python3.6/site-packages (from azure-cli-telemetry->azure-cli-core>=2.0.38->azureml-core==0.1.80.*->azureml-train-automl) (1.2.1)\n",
      "Requirement already satisfied, skipping upgrade: bcrypt>=3.1.3 in /home/nbuser/anaconda3_501/lib/python3.6/site-packages (from paramiko>=2.0.8->azure-cli-core>=2.0.38->azureml-core==0.1.80.*->azureml-train-automl) (3.1.4)\n",
      "Requirement already satisfied, skipping upgrade: pynacl>=1.0.1 in /home/nbuser/anaconda3_501/lib/python3.6/site-packages (from paramiko>=2.0.8->azure-cli-core>=2.0.38->azureml-core==0.1.80.*->azureml-train-automl) (1.3.0)\n"
     ]
    },
    {
     "name": "stdout",
     "output_type": "stream",
     "text": [
      "Requirement already satisfied, skipping upgrade: pycparser in /home/nbuser/anaconda3_501/lib/python3.6/site-packages (from cffi!=1.11.3,>=1.7->cryptography!=1.9,!=2.0.*,!=2.1.*,!=2.2.*->azureml-core==0.1.80.*->azureml-train-automl) (2.19)\n",
      "Requirement already satisfied, skipping upgrade: oauthlib>=0.6.2 in /home/nbuser/anaconda3_501/lib/python3.6/site-packages (from requests-oauthlib>=0.5.0->msrest>=0.5.1->azureml-core==0.1.80.*->azureml-train-automl) (2.1.0)\n",
      "\u001b[31mazureml-train-widgets 0.1.74 has requirement azureml-core==0.1.74.*, but you'll have azureml-core 0.1.80 which is incompatible.\u001b[0m\n",
      "\u001b[31mazureml-train-widgets 0.1.74 has requirement azureml-telemetry==0.1.74.*, but you'll have azureml-telemetry 0.1.80 which is incompatible.\u001b[0m\n",
      "\u001b[31mazureml-train-core 0.1.74 has requirement azureml-core==0.1.74.*, but you'll have azureml-core 0.1.80 which is incompatible.\u001b[0m\n",
      "\u001b[31mazureml-train-core 0.1.74 has requirement azureml-telemetry==0.1.74.*, but you'll have azureml-telemetry 0.1.80 which is incompatible.\u001b[0m\n",
      "\u001b[31mazureml-sdk 0.1.74 has requirement azureml-core==0.1.74.*, but you'll have azureml-core 0.1.80 which is incompatible.\u001b[0m\n",
      "\u001b[31mazureml-pipeline-core 0.1.74 has requirement azureml-core==0.1.74.*, but you'll have azureml-core 0.1.80 which is incompatible.\u001b[0m\n",
      "Installing collected packages: dotnetcore2, azureml-dataprep-native, azureml-dataprep, azureml-core, azureml-telemetry, azureml-train-automl, setuptools\n",
      "  Found existing installation: dotnetcore2 2.1.0\n",
      "    Uninstalling dotnetcore2-2.1.0:\n",
      "      Successfully uninstalled dotnetcore2-2.1.0\n",
      "  Found existing installation: azureml-dataprep-native 10.4.0\n",
      "    Uninstalling azureml-dataprep-native-10.4.0:\n",
      "      Successfully uninstalled azureml-dataprep-native-10.4.0\n",
      "  Found existing installation: azureml-dataprep 0.3.0\n",
      "    Uninstalling azureml-dataprep-0.3.0:\n",
      "      Successfully uninstalled azureml-dataprep-0.3.0\n",
      "  Found existing installation: azureml-core 0.1.74\n",
      "    Uninstalling azureml-core-0.1.74:\n",
      "      Successfully uninstalled azureml-core-0.1.74\n",
      "  Found existing installation: azureml-telemetry 0.1.74\n",
      "    Uninstalling azureml-telemetry-0.1.74:\n",
      "      Successfully uninstalled azureml-telemetry-0.1.74\n",
      "  Found existing installation: azureml-train-automl 0.1.74\n",
      "    Uninstalling azureml-train-automl-0.1.74:\n",
      "      Successfully uninstalled azureml-train-automl-0.1.74\n",
      "  Found existing installation: setuptools 40.4.3\n",
      "    Uninstalling setuptools-40.4.3:\n",
      "      Successfully uninstalled setuptools-40.4.3\n",
      "Successfully installed azureml-core-0.1.80 azureml-dataprep-0.5.1 azureml-dataprep-native-11.1.1 azureml-telemetry-0.1.80 azureml-train-automl-0.1.80 dotnetcore2-2.1.5 setuptools-39.1.0\n"
     ]
    }
   ],
   "source": [
    "!pip install --upgrade azureml-train-automl==1.0.2"
   ]
  },
  {
   "cell_type": "code",
   "execution_count": null,
   "metadata": {},
   "outputs": [],
   "source": [
    "!pip install --upgrade azureml-sdk[explain]"
   ]
  },
  {
   "cell_type": "code",
   "execution_count": 2,
   "metadata": {},
   "outputs": [],
   "source": [
    "import azureml.core\n",
    "import logging\n",
    "import os\n",
    "import random\n",
    "import numpy as np\n",
    "import pandas as pd\n",
    "import time\n",
    "\n",
    "from matplotlib import pyplot as plt\n",
    "from matplotlib.pyplot import imshow\n",
    "from sklearn import datasets\n",
    "from azureml.core.experiment import Experiment\n",
    "from azureml.core.workspace import Workspace\n",
    "from azureml.train.automl import AutoMLConfig\n",
    "from azureml.train.automl.run import AutoMLRun"
   ]
  },
  {
   "cell_type": "markdown",
   "metadata": {},
   "source": [
    "### <font color=\"red\">Action Required</font>\n",
    "\n",
    "<font color=\"red\"> Replace \"subscription_guid\" with your Azure Subscription. \"resource_group\", \"workspace_region\", and \"workspace_name\" with the values that you would like for this automl experiment. Make sure you remove the angle brackets. The values should be inside the quotes. </font>\n",
    "* Supported regions include `eastus2`, `eastus`,`westcentralus`, `southeastasia`, `westeurope`, `australiaeast`, `westus2`, `southcentralus`"
   ]
  },
  {
   "cell_type": "code",
   "execution_count": null,
   "metadata": {},
   "outputs": [],
   "source": [
    "#Update your with your subscription, resrouce group, workspace region and workspace name.\n",
    "subscription_id = \"<subscription_guid>\"\n",
    "resource_group = \"<resource_group>\"\n",
    "workspace_region = \"<workspace_region>\"\n",
    "workspace_name = \"<workspace_name>\""
   ]
  },
  {
   "cell_type": "markdown",
   "metadata": {},
   "source": [
    "## Creating a Workspace\n",
    "If you already have access to an Azure ML workspace you want to use, you can skip this cell.  Otherwise, this cell will create an Azure ML workspace for you in the specified subscription, provided you have the correct permissions for the given `subscription_id`.\n",
    "\n",
    "This will fail when:\n",
    "1. The workspace already exists.\n",
    "2. You do not have permission to create a workspace in the resource group.\n",
    "3. You are not a subscription owner or contributor and no Azure ML workspaces have ever been created in this subscription.\n",
    "\n",
    "If workspace creation fails for any reason other than already existing, please work with your IT administrator to provide you with the appropriate permissions or to provision the required resources.\n",
    "\n",
    "**Note:** Creation of a new workspace can take several minutes."
   ]
  },
  {
   "cell_type": "code",
   "execution_count": null,
   "metadata": {},
   "outputs": [],
   "source": [
    "# Import the Workspace class and check the Azure ML SDK version.\n",
    "from azureml.core import Workspace\n",
    "\n",
    "ws = Workspace.create(name = workspace_name,\n",
    "                      subscription_id = subscription_id,\n",
    "                      resource_group = resource_group, \n",
    "                      location = workspace_region)\n",
    "ws.get_details()"
   ]
  },
  {
   "cell_type": "markdown",
   "metadata": {},
   "source": [
    "### <font color=\"red\"> Action Required\n",
    "    \n",
    "<font color=\"red\"> Executing next cell will ask you to go to a url to authenticate. Follow the instructions and copy and paste the code given. \n",
    "<p> Ensure to delete any white space after pasting the code. Once the authentication is successful, you will see a message that says Interactive authentication successfully completed and you can close the tab. \n",
    "<p> In this step you are logging into the Azure subscription using your credentials </font>"
   ]
  },
  {
   "cell_type": "code",
   "execution_count": 4,
   "metadata": {},
   "outputs": [],
   "source": [
    "ws = Workspace(workspace_name = workspace_name,\n",
    "               subscription_id = subscription_id,\n",
    "               resource_group = resource_group)"
   ]
  },
  {
   "cell_type": "code",
   "execution_count": null,
   "metadata": {},
   "outputs": [],
   "source": [
    "# choose a name for the run history container in the workspace\n",
    "experiment_name = 'AutoML_GlobalAI'\n",
    "\n",
    "# project folder\n",
    "project_folder = './sample_projects/automl-energydemandforecasting'\n",
    "\n",
    "experiment=Experiment(ws, experiment_name)\n",
    "\n",
    "output = {}\n",
    "output['SDK version'] = azureml.core.VERSION\n",
    "output['Subscription ID'] = ws.subscription_id\n",
    "output['Workspace Name'] = ws.name\n",
    "output['Resource Group'] = ws.resource_group\n",
    "output['Location'] = ws.location\n",
    "output['Project Directory'] = project_folder\n",
    "output['Experiment Name'] = experiment.name\n",
    "pd.set_option('display.max_colwidth', -1)\n",
    "pd.DataFrame(data = output, index = ['']).T"
   ]
  },
  {
   "cell_type": "markdown",
   "metadata": {},
   "source": [
    "# Section 1\n",
    "In this section\n",
    "Read and Inspect the dataset\n",
    "and prepare the data for training"
   ]
  },
  {
   "cell_type": "markdown",
   "metadata": {},
   "source": [
    "## 1.1 Read the data\n",
    "\n",
    "Data is in a csv file in blob storage.\n",
    "Two datasets are provided with this sample nyc_demand.csv and nyc_weather.csv.\n",
    "\n",
    ">* nyc_demand.csv contains hourly energy demand values for New York City for the years 2012-2017. The data has timestamp and energy demand in megawatt-hours\n",
    ">* nyc_weather.csv contains hourly weather values (nyc_weather.csv contains hourly weather values) for New York City over the same years 2012-2017.\n",
    "\n",
    "The two datasets are joined and read into a pandas dataframe. Pandas is a popular dataframe extensively used by scikit-learn users"
   ]
  },
  {
   "cell_type": "code",
   "execution_count": 6,
   "metadata": {},
   "outputs": [],
   "source": [
    "import pandas as pd\n",
    "from sklearn.model_selection import train_test_split\n",
    "from sklearn.preprocessing import LabelEncoder\n",
    "    \n",
    "demand = pd.read_csv(\"https://antaignitedata.blob.core.windows.net/antaignitedata/nyc_demand.csv\", parse_dates=['timeStamp'])\n",
    "weather = pd.read_csv(\"https://antaignitedata.blob.core.windows.net/antaignitedata/nyc_weather.csv\", parse_dates=['timeStamp'])\n",
    "df = pd.merge(demand, weather, on=['timeStamp'], how='outer')\n"
   ]
  },
  {
   "cell_type": "markdown",
   "metadata": {},
   "source": [
    "## 1.2 Inspect data\n",
    "Display the first few rows of the data"
   ]
  },
  {
   "cell_type": "code",
   "execution_count": 7,
   "metadata": {},
   "outputs": [
    {
     "data": {
      "text/html": [
       "<div>\n",
       "<style scoped>\n",
       "    .dataframe tbody tr th:only-of-type {\n",
       "        vertical-align: middle;\n",
       "    }\n",
       "\n",
       "    .dataframe tbody tr th {\n",
       "        vertical-align: top;\n",
       "    }\n",
       "\n",
       "    .dataframe thead th {\n",
       "        text-align: right;\n",
       "    }\n",
       "</style>\n",
       "<table border=\"1\" class=\"dataframe\">\n",
       "  <thead>\n",
       "    <tr style=\"text-align: right;\">\n",
       "      <th></th>\n",
       "      <th>timeStamp</th>\n",
       "      <th>demand</th>\n",
       "      <th>precip</th>\n",
       "      <th>temp</th>\n",
       "    </tr>\n",
       "  </thead>\n",
       "  <tbody>\n",
       "    <tr>\n",
       "      <th>0</th>\n",
       "      <td>2012-01-01 00:00:00</td>\n",
       "      <td>4937.5</td>\n",
       "      <td>0.0</td>\n",
       "      <td>46.13</td>\n",
       "    </tr>\n",
       "    <tr>\n",
       "      <th>1</th>\n",
       "      <td>2012-01-01 01:00:00</td>\n",
       "      <td>4752.1</td>\n",
       "      <td>0.0</td>\n",
       "      <td>45.89</td>\n",
       "    </tr>\n",
       "    <tr>\n",
       "      <th>2</th>\n",
       "      <td>2012-01-01 02:00:00</td>\n",
       "      <td>4542.6</td>\n",
       "      <td>0.0</td>\n",
       "      <td>45.04</td>\n",
       "    </tr>\n",
       "    <tr>\n",
       "      <th>3</th>\n",
       "      <td>2012-01-01 03:00:00</td>\n",
       "      <td>4357.7</td>\n",
       "      <td>0.0</td>\n",
       "      <td>45.03</td>\n",
       "    </tr>\n",
       "    <tr>\n",
       "      <th>4</th>\n",
       "      <td>2012-01-01 04:00:00</td>\n",
       "      <td>4275.5</td>\n",
       "      <td>0.0</td>\n",
       "      <td>42.61</td>\n",
       "    </tr>\n",
       "  </tbody>\n",
       "</table>\n",
       "</div>"
      ],
      "text/plain": [
       "            timeStamp  demand  precip   temp\n",
       "0 2012-01-01 00:00:00  4937.5  0.0     46.13\n",
       "1 2012-01-01 01:00:00  4752.1  0.0     45.89\n",
       "2 2012-01-01 02:00:00  4542.6  0.0     45.04\n",
       "3 2012-01-01 03:00:00  4357.7  0.0     45.03\n",
       "4 2012-01-01 04:00:00  4275.5  0.0     42.61"
      ]
     },
     "execution_count": 7,
     "metadata": {},
     "output_type": "execute_result"
    }
   ],
   "source": [
    "df.head()"
   ]
  },
  {
   "cell_type": "code",
   "execution_count": 9,
   "metadata": {},
   "outputs": [
    {
     "data": {
      "image/png": "[encoded data removed]",
      "text/plain": [
       "<Figure size 432x288 with 1 Axes>"
      ]
     },
     "metadata": {
      "needs_background": "light"
     },
     "output_type": "display_data"
    }
   ],
   "source": [
    "plt_df = demand.loc[(demand.timeStamp>'2016-07-01') & (demand.timeStamp<='2016-07-07')]\n",
    "plt.plot(plt_df['timeStamp'], plt_df['demand'])\n",
    "plt.title('New York City power demand over one week in July 2017')\n",
    "plt.xticks(rotation=45)\n",
    "plt.show()"
   ]
  },
  {
   "cell_type": "code",
   "execution_count": 48,
   "metadata": {},
   "outputs": [
    {
     "data": {
      "image/png": "[encoded data removed]",
      "text/plain": [
       "<Figure size 432x288 with 1 Axes>"
      ]
     },
     "metadata": {
      "needs_background": "light"
     },
     "output_type": "display_data"
    }
   ],
   "source": [
    "plt_df = demand.copy().loc[(demand['timeStamp']>='2016-01-01') & (demand['timeStamp']<'2017-01-01'), ]\n",
    "plt.plot(plt_df['timeStamp'], plt_df['demand'], markersize=1)\n",
    "plt.title('Hourly demand in 2016')\n",
    "plt.ylabel('demand')\n",
    "plt.xticks(rotation=45)\n",
    "plt.show()"
   ]
  },
  {
   "cell_type": "markdown",
   "metadata": {},
   "source": [
    "## 1.3 Set validation and test data aside"
   ]
  },
  {
   "cell_type": "code",
   "execution_count": 11,
   "metadata": {},
   "outputs": [],
   "source": [
    "# We are setting aside data that is newer than 2017 August 1st as test data set. All the data that is older than 2017 August 1st is the training data\n",
    "\n",
    "train, test = (df.loc[df['timeStamp']<'2016-07-01'], df.loc[df['timeStamp']>='2016-07-01'])\n",
    "\n",
    "#Data that was read into the dataframe has the features and label (the column that you are trying to predict). \n",
    "#Moving the label column into its own vector y\n",
    "X = train.drop(['demand'], axis=1)\n",
    "X.head()\n",
    "type(X)\n",
    "y = train['demand']\n",
    "y = y.values\n",
    "type(y)\n",
    "#X = X.values\n",
    "type(X)\n",
    "\n",
    "#Set aside some validation dataset within the train dataset above. \n",
    "#With Timeseries data, typically validatation dataset is specific period\n",
    "split_index = int(X.shape[0] * 0.9)\n",
    "X_train = X[0:split_index]\n",
    "y_train = y[0:split_index]\n",
    "X_validation = X[split_index+1:]\n",
    "y_validation = y[split_index+1:]\n"
   ]
  },
  {
   "cell_type": "markdown",
   "metadata": {},
   "source": [
    "### Section 1 Recap\n",
    "In the section above, you read the data and prepared the training vector, label vector and validation data"
   ]
  },
  {
   "cell_type": "markdown",
   "metadata": {},
   "source": [
    "# Section 2\n",
    "In this section\n",
    "You will configure automated ML and run automated ML Experiment which will generate Machine Learning Models. The training jobs are run on VMs provided and managed by Azure Notebooks."
   ]
  },
  {
   "cell_type": "markdown",
   "metadata": {},
   "source": [
    "## 2.1 - Configure automated ML\n",
    "\n",
    "AutoMLConfig has many levers that you can use to configure automated ML. Key ones to look for primary_metric, iterations."
   ]
  },
  {
   "cell_type": "markdown",
   "metadata": {},
   "source": [
    "### <font color=\"red\"> Action Required </font> \n",
    "<font color=\"red\"> automated ML comes with many levers that you can use to configure. This is to give you flexibility and control.\n",
    "<p>\n",
    "For example primary_metric is the metric that automated ML use to optimize the machine leanring model it is building. Automated ML supports several different primary_metrics. We will be using for <primary_metric>  <b> normalized_root_mean_squared_error </b> for this regression task. \n",
    "</font>\n",
    "<p>\n",
    "To find out more about all the configuration settings refer to the configure your automated machine learning experiment Azure documentation https://docs.microsoft.com/en-us/azure/machine-learning/service/how-to-configure-auto-train\n",
    "<p>\n",
    "Notice that the task is set to regression. We are also passing the training dataset and validation dataset (X_train, y-train, X_validation, y_validation that we prepared in section 1.3"
   ]
  },
  {
   "cell_type": "code",
   "execution_count": 27,
   "metadata": {},
   "outputs": [],
   "source": [
    "automl_config_local = AutoMLConfig(task = 'regression',\n",
    "                             debug_log = 'automl_errors.log',\n",
    "                             primary_metric = 'normalized_root_mean_squared_error',\n",
    "                             experiment_timeout_minutes = 30,\n",
    "                             iterations =5,\n",
    "                             verbosity = logging.INFO,\n",
    "                             X = X_train, \n",
    "                             y = y_train,\n",
    "                             X_valid = X_validation,\n",
    "                             y_valid = y_validation,\n",
    "                             preprocess = True,\n",
    "                             path=project_folder)"
   ]
  },
  {
   "cell_type": "markdown",
   "metadata": {},
   "source": [
    "### Section 2.2 Training the Model on Azure Notebooks\n",
    "\n",
    "You can call the submit method on the experiment object and pass the AutoMLConfig object you instantiated above. \n",
    "<P>\n",
    "Submit generates the machine learning models equivalent to the iterations you set (In this case two different models). \n",
    "For Local runs the execution is synchronous. Depending on the data and number of iterations this can run for while. \n",
    "    \n",
    "<p> For this data, this takes about 2 minutes to complete the iterations. Given Azure Notebooks is a multi-tenant service with so many users running at the same time, today you might see a little degradation in performance and completion could take a little longer.\n",
    "\n",
    "You will see the currently running iterations printing to the console."
   ]
  },
  {
   "cell_type": "code",
   "execution_count": 28,
   "metadata": {},
   "outputs": [
    {
     "name": "stdout",
     "output_type": "stream",
     "text": [
      "Parent Run ID: AutoML_e0a711de-f078-4044-8f95-fbe6baa1eee3\n",
      "*******************************************************************************************\n",
      "ITERATION: The iteration being evaluated.\n",
      "PIPELINE: A summary description of the pipeline being evaluated.\n",
      "DURATION: Time taken for the current iteration.\n",
      "METRIC: The result of computing score on the fitted pipeline.\n",
      "BEST: The best observed score thus far.\n",
      "*******************************************************************************************\n",
      "\n",
      " ITERATION   PIPELINE                                       DURATION      METRIC      BEST\n",
      "         0   StandardScalerWrapper DecisionTree             0:00:40       0.0590    0.0590\n",
      "         1   StandardScalerWrapper RandomForest             0:00:14       0.0510    0.0510\n",
      "         2   RobustScaler RandomForest                      0:00:16       0.0415    0.0415\n",
      "         3   StandardScalerWrapper ElasticNet               0:00:16       0.1063    0.0415\n",
      "         4    Ensemble                                      0:00:40       0.0415    0.0415\n"
     ]
    }
   ],
   "source": [
    "local_run = experiment.submit(automl_config_local, show_output=True)"
   ]
  },
  {
   "cell_type": "markdown",
   "metadata": {},
   "source": [
    "## Retrieve the Best Model\n",
    "Below we select the best pipeline from our iterations. The get_output method on automl_classifier returns the best run and the fitted model for the last fit invocation. There are overloads on get_output that allow you to retrieve the best run and fitted model for any logged metric or a particular iteration."
   ]
  },
  {
   "cell_type": "code",
   "execution_count": 29,
   "metadata": {},
   "outputs": [
    {
     "name": "stdout",
     "output_type": "stream",
     "text": [
      "Run(Experiment: AutoML_GlobalAI,\n",
      "Id: AutoML_e0a711de-f078-4044-8f95-fbe6baa1eee3_4,\n",
      "Type: None,\n",
      "Status: Completed)\n",
      "Pipeline(memory=None,\n",
      "     steps=[('datatransformer', DataTransformer(logger=None, task=None)), ('prefittedsoftvotingregressor', PreFittedSoftVotingRegressor(estimators=[('RandomForest', Pipeline(memory=None,\n",
      "     steps=[('robustscaler', RobustScaler(copy=True, quantile_range=[10, 90], with_centering=False,\n",
      "       with_scalin...ate=None, verbose=0, warm_start=False))]))],\n",
      "               flatten_transform=None, weights=[1.0]))])\n"
     ]
    }
   ],
   "source": [
    "best_run, fitted_model = local_run.get_output()\n",
    "print(best_run)\n",
    "print(fitted_model)"
   ]
  },
  {
   "cell_type": "markdown",
   "metadata": {},
   "source": [
    "## Best Model 's explanation\n",
    "Retrieve the explanation from the best_run. And explanation information includes:\n",
    "1. shap_values: The explanation information generated by shap lib\n",
    "2. expected_values: The expected value of the model applied to set of X_train data.\n",
    "3. overall_summary: The model level feature importance values sorted in descending order\n",
    "4. overall_imp: The feature names sorted in the same order as in overall_summary\n",
    "5. per_class_summary: The class level feature importance values sorted in descending order. Only available for the classification case\n",
    "6. per_class_imp: The feature names sorted in the same order as in per_class_summary. Only available for the classification case"
   ]
  },
  {
   "cell_type": "code",
   "execution_count": 30,
   "metadata": {},
   "outputs": [
    {
     "name": "stdout",
     "output_type": "stream",
     "text": [
      "Provided model function fails when applied to the provided data set.\n"
     ]
    },
    {
     "name": "stderr",
     "output_type": "stream",
     "text": [
      "INFO:azureml.explain.model._internal.common:predict_proba not supported by given model, assuming regression model and trying predict: 'RandomForestRegressor' object has no attribute 'predict_proba'\n",
      "100%|████████████████████████████████████████████████████████████████████| 3943/3943 [05:13<00:00, 10.97it/s]\n"
     ]
    },
    {
     "name": "stdout",
     "output_type": "stream",
     "text": [
      "[525.2906822496298, 389.0661284338009, 180.1862156067872, 77.92282951701007, 23.267852975423846, 8.59602585141573, 2.0840881372236435, 1.7963678084537156, 1.6770443199498852, 0.0, 0.0, 0.0]\n",
      "['timeStamp_ModeImputer_Hour', 'temp_MeanImputer', 'timeStamp_ModeImputer_DayOfWeek', 'timeStamp_ModeImputer_DayOfYear', 'timeStamp_ModeImputer_Month', 'timeStamp_ModeImputer_QuarterOfYear', 'timeStamp_ModeImputer_Year', 'timeStamp_ModeImputer_Day', 'timeStamp_ModeImputer_WeekOfMonth', 'precip_MeanImputer', 'timeStamp_ModeImputer_Second', 'timeStamp_ModeImputer_Minute']\n"
     ]
    }
   ],
   "source": [
    "from azureml.train.automl.automlexplainer import explain_model\n",
    "\n",
    "shap_values, expected_values, overall_summary, overall_imp, per_class_summary, per_class_imp = \\\n",
    "    explain_model(fitted_model, X_train, X_validation)\n",
    "\n",
    "print(overall_summary)\n",
    "print(overall_imp)"
   ]
  },
  {
   "cell_type": "markdown",
   "metadata": {},
   "source": [
    "### Section 2 Recap\n",
    "In the section above, you configured automated ML object and ran automated ML Experiment locally on Azure Notebooks which built two ML models. With this section you have successfully completed building your Machine Learning model using automated ML."
   ]
  },
  {
   "cell_type": "markdown",
   "metadata": {},
   "source": [
    "# Section 3\n",
    "We have built a couple of models using Azure Notebooks. Now, lets scale to Cloud. In order to run automated ML training jobs in the cloud, we need to prepare the data similar to what we have done in section 1. However, you write the data preparation in a script and write the script to a file. This enables automated ML to upload the script file to the cloud machine and execute in the cloud eliminating the need to transfer the data for every iteration."
   ]
  },
  {
   "cell_type": "markdown",
   "metadata": {},
   "source": [
    "## 3.1 Define Get Data function and write it to a file\n",
    "When running on Azure cloud, A get_data function needs to be defined for your data fetch. This function is written to a file called get_data.py. This file gets copied to the BatchAI cluster VMs and gets executed on the VM. The *get_data()* function returns a [dictionary](README.md#getdata)."
   ]
  },
  {
   "cell_type": "code",
   "execution_count": 31,
   "metadata": {},
   "outputs": [
    {
     "name": "stdout",
     "output_type": "stream",
     "text": [
      "Overwriting ./sample_projects/automl-energydemandforecasting/get_data.py\n"
     ]
    }
   ],
   "source": [
    "%%writefile $project_folder/get_data.py\n",
    "\n",
    "import pandas as pd\n",
    "from sklearn.model_selection import train_test_split\n",
    "from sklearn.preprocessing import LabelEncoder\n",
    "import numpy as np\n",
    "\n",
    "def get_data():\n",
    "    \n",
    "    demand = pd.read_csv(\"https://antaignitedata.blob.core.windows.net/antaignitedata/nyc_demand.csv\", parse_dates=['timeStamp'])\n",
    "    weather = pd.read_csv(\"https://antaignitedata.blob.core.windows.net/antaignitedata/nyc_weather.csv\", parse_dates=['timeStamp'])\n",
    "    df = pd.merge(demand, weather, on=['timeStamp'], how='outer')\n",
    "\n",
    "#    df = df.dropna(axis=0, how='all', subset = ['demand'])\n",
    "#    df[np.isnan(df.demand)]\n",
    "    \n",
    "    train, test = (df.loc[df['timeStamp']<'2016-07-01'], df.loc[df['timeStamp']>='2016-07-01'])\n",
    "\n",
    "    X = train.drop(['demand'], axis=1)\n",
    "    X.head()\n",
    "    type(X)\n",
    "    y = train['demand']\n",
    "    y = y.values\n",
    "    type(y)\n",
    "    #X = X.values\n",
    "    type(X)\n",
    "    \n",
    "    split_index = int(X.shape[0] * 0.9)\n",
    "    X_train = X[0:split_index]\n",
    "    y_train = y[0:split_index]\n",
    "    X_validation = X[split_index+1:]\n",
    "    y_validation = y[split_index+1:]\n",
    "\n",
    "    return { \"X\" : X_train, \"y\" : y_train, \"X_valid\": X_validation, \"y_valid\" : y_validation }"
   ]
  },
  {
   "cell_type": "markdown",
   "metadata": {},
   "source": [
    "# Section 4\n",
    "In this section, you run the automated ML experiment in Azure Cloud using a data science virtual machine (DSVM). Azure Cloud compute enables you to scale to run lot more iterations.\n",
    "\n",
    "First let's use Data Science Virtual Machine in Azure to run automated ML training jobs\n",
    "\n",
    "You may have noticed the performance metric of the models created above is still very low. Automated ML recommends to run greater than 100 iterations to get a decent model."
   ]
  },
  {
   "cell_type": "markdown",
   "metadata": {},
   "source": [
    "## 4.1 Creating a DSVM or using an existing VM.\n",
    "A data science VM will now be created and provisioned for you. Data Science VM enables you to scale up and run AutoML experiment much faster. <p>This process will take a few minutes."
   ]
  },
  {
   "cell_type": "code",
   "execution_count": 32,
   "metadata": {},
   "outputs": [
    {
     "name": "stdout",
     "output_type": "stream",
     "text": [
      "Found an existing DSVM.\n"
     ]
    }
   ],
   "source": [
    "from azureml.core.compute import DsvmCompute\n",
    "import time \n",
    "\n",
    "dsvm_name = 'mydsvm'\n",
    "try:\n",
    "    dsvm_compute = DsvmCompute(ws, dsvm_name)\n",
    "    print('Found an existing DSVM.')\n",
    "except:\n",
    "    print('Creating a new DSVM.')\n",
    "    dsvm_config = DsvmCompute.provisioning_configuration(vm_size = \"Standard_D2_v2\")\n",
    "    dsvm_compute = DsvmCompute.create(ws, name = dsvm_name, provisioning_configuration = dsvm_config)\n",
    "    dsvm_compute.wait_for_completion(show_output = True)\n",
    "    time.sleep(60)"
   ]
  },
  {
   "cell_type": "markdown",
   "metadata": {},
   "source": [
    "## 4.2 Configure AutoMLConfig for DSVM. \n",
    "The differences from the local config are - set compute_target as the DSVM, pass the get_data.py script."
   ]
  },
  {
   "cell_type": "code",
   "execution_count": 33,
   "metadata": {},
   "outputs": [],
   "source": [
    "#DSVM AI AutoML Settings\n",
    "\n",
    "automl_config_dsvm = AutoMLConfig(task = 'regression',\n",
    "                             debug_log = 'automl_errors.log',\n",
    "                             primary_metric = 'normalized_root_mean_squared_error',\n",
    "                             iterations = 3,\n",
    "                             verbosity = logging.INFO,\n",
    "                             path = project_folder,\n",
    "                             compute_target=dsvm_compute,\n",
    "                             data_script = project_folder + \"/get_data.py\"\n",
    "                            )"
   ]
  },
  {
   "cell_type": "markdown",
   "metadata": {},
   "source": [
    "## 4.3 Training the Model on DSVM\n",
    "\n",
    "You can call the submit method on the experiment object. For DSVM the runs execute asynchronously. "
   ]
  },
  {
   "cell_type": "code",
   "execution_count": 34,
   "metadata": {},
   "outputs": [],
   "source": [
    "remote_dsvm_run = experiment.submit(automl_config_dsvm, show_output = False)"
   ]
  },
  {
   "cell_type": "markdown",
   "metadata": {},
   "source": [
    "## 4.4 - Monitor and Inspect the runs"
   ]
  },
  {
   "cell_type": "markdown",
   "metadata": {},
   "source": [
    "#### Widget for monitoring runs\n",
    "\n",
    "Initial run could take a few minutes. Depending on the data and number of iterations this can run for while.\n",
    "You will see the currently running iterations printing in the widget. The widget will sit on \"loading\" until the first iteration completed, then you will see an auto-updating graph and table show up. It refreshed once per minute, so you should see the graph update as child runs complete.\n",
    "\n",
    "NOTE: The widget displays a link at the bottom. Ignore the link for a moment. This links to a web-ui to explore the individual run details."
   ]
  },
  {
   "cell_type": "markdown",
   "metadata": {},
   "source": [
    "### <font color = \"red\"> Action Required </font>\n",
    "<font color = \"red\"> When the widget loads you will notice that the two runs failed. This is expected. Click on any of the failed links under Pipeline column. A pop-up window will open. Notice the second line from the bottom in the popup window.  </font>\n",
    "\n",
    "By the way, the blue bar in the widget might be displaying Waiting for metrics. Ignore that. If you see AttributeError, you can ignore that too (We are running more than a month's old version of SDK on Azure Notebooks and the bug has been fixed in the newer version of SDK)."
   ]
  },
  {
   "cell_type": "code",
   "execution_count": 35,
   "metadata": {},
   "outputs": [
    {
     "data": {
      "application/vnd.jupyter.widget-view+json": {
       "model_id": "0dd8777dbac14f5fa1cc86cf5f514b5f",
       "version_major": 2,
       "version_minor": 0
      },
      "text/plain": [
       "_AutoMLWidget(widget_settings={'childWidgetDisplay': 'popup', 'send_telemetry': True, 'log_level': 'INFO', 'sd…"
      ]
     },
     "metadata": {},
     "output_type": "display_data"
    }
   ],
   "source": [
    "from azureml.widgets import RunDetails\n",
    "RunDetails(remote_dsvm_run).show() "
   ]
  },
  {
   "cell_type": "markdown",
   "metadata": {},
   "source": [
    "## 4.5 Training the Model on DSVM with Preprocess\n",
    "\n",
    "Noticed that the experiment failed. This is because the data has missing values. For example let's check the values on row 49175 in the dataframe. Notice that there is \"nan\" in the values. nan stands for 'Not a Number' which basically means the value is missing. Missing values is quite common in real life. For example if you are collecting data from IoT sensors, there could be a period where one of the sensors is broken."
   ]
  },
  {
   "cell_type": "code",
   "execution_count": 36,
   "metadata": {},
   "outputs": [
    {
     "data": {
      "text/plain": [
       "array([Timestamp('2017-08-11 01:00:00'), nan, 0.0, 69.26], dtype=object)"
      ]
     },
     "execution_count": 36,
     "metadata": {},
     "output_type": "execute_result"
    }
   ],
   "source": [
    "df.iloc[49175].values"
   ]
  },
  {
   "cell_type": "markdown",
   "metadata": {},
   "source": [
    "With automated ML's data preprocessing you don't need to worry about missing values. automated ML will replace the missing values. Preprocessing can do lot more than just missing values, including one hot encoding of categorical values.\n",
    "<p> Let's configure AutoMLConfig by setting preprocess to True"
   ]
  },
  {
   "cell_type": "code",
   "execution_count": 37,
   "metadata": {},
   "outputs": [],
   "source": [
    "#DSVM AI AutoML Settings\n",
    "\n",
    "automl_config_dsvm = AutoMLConfig(task = 'regression',\n",
    "                             debug_log = 'automl_errors.log',\n",
    "                             primary_metric = 'normalized_root_mean_squared_error',\n",
    "                             iterations = 3,\n",
    "                             verbosity = logging.INFO,\n",
    "                             preprocess = True,\n",
    "                             path = project_folder,\n",
    "                             compute_target=dsvm_compute,\n",
    "                             data_script = project_folder + \"/get_data.py\"\n",
    "                            )"
   ]
  },
  {
   "cell_type": "markdown",
   "metadata": {},
   "source": [
    "#### Submit automated ML Experiment of 5 runs to be executed on DSVM"
   ]
  },
  {
   "cell_type": "code",
   "execution_count": 38,
   "metadata": {},
   "outputs": [],
   "source": [
    "remote_dsvm_run = experiment.submit(automl_config_dsvm, show_output = False)"
   ]
  },
  {
   "cell_type": "markdown",
   "metadata": {},
   "source": [
    "## 4.6 - Monitor and Inspect the runs"
   ]
  },
  {
   "cell_type": "markdown",
   "metadata": {},
   "source": [
    "### <font color = \"red\"> Action Required </font> \n",
    "<font color = \"red\"> When you execute the cell below, it will render a widget showing the status of all the iterations in a table. The iterations are shown in a leaderboard format with the best performing model being on the top. However you can sort these by clicking on the column heading. If you hover your mouse on any of the pipelines, you will see all the hyper parameters used to build that particular model. If you click on any of the pipelines, a window will popup with a plethora of information including various metrics of the model and a few visual charts. \n",
    "You will also see a step chart showing the metric for each iteration </font>"
   ]
  },
  {
   "cell_type": "code",
   "execution_count": 39,
   "metadata": {},
   "outputs": [
    {
     "data": {
      "application/vnd.jupyter.widget-view+json": {
       "model_id": "d5479b3f7da747949d8b0aa1421f4671",
       "version_major": 2,
       "version_minor": 0
      },
      "text/plain": [
       "_AutoMLWidget(widget_settings={'childWidgetDisplay': 'popup', 'send_telemetry': True, 'log_level': 'INFO', 'sd…"
      ]
     },
     "metadata": {},
     "output_type": "display_data"
    }
   ],
   "source": [
    "from azureml.widgets import RunDetails\n",
    "RunDetails(remote_dsvm_run).show() "
   ]
  },
  {
   "cell_type": "markdown",
   "metadata": {},
   "source": [
    "## 4.7 Continue with a couple of more iterations\n",
    " Lets run two more iterations to see whether there is any improvement in accuracy"
   ]
  },
  {
   "cell_type": "code",
   "execution_count": 40,
   "metadata": {},
   "outputs": [
    {
     "data": {
      "text/html": [
       "<table style=\"width:100%\"><tr><th>Experiment</th><th>Id</th><th>Type</th><th>Status</th><th>Details Page</th><th>Docs Page</th></tr><tr><td>AutoML_GlobalAI</td><td>AutoML_df387fd1-3139-4e6c-853d-9fbeac7557d4</td><td>automl</td><td>Completed</td><td><a href=\"https://mlworkspace.azure.ai/portal/subscriptions/381b38e9-9840-4719-a5a0-61d9585e1e91/resourceGroups/myrg_nilesha2/providers/Microsoft.MachineLearningServices/workspaces/myws_nilesha2/experiments/AutoML_GlobalAI/runs/AutoML_df387fd1-3139-4e6c-853d-9fbeac7557d4\" target=\"_blank\" rel=\"noopener\">Link to Azure Portal</a></td><td><a href=\"https://docs.microsoft.com/en-us/python/api/overview/azure/ml/intro?view=azure-ml-py\" target=\"_blank\" rel=\"noopener\">Link to Documentation</a></td></tr></table>"
      ],
      "text/plain": [
       "Run(Experiment: AutoML_GlobalAI,\n",
       "Id: AutoML_df387fd1-3139-4e6c-853d-9fbeac7557d4,\n",
       "Type: automl,\n",
       "Status: Completed)"
      ]
     },
     "execution_count": 40,
     "metadata": {},
     "output_type": "execute_result"
    }
   ],
   "source": [
    "remote_dsvm_run.continue_experiment(X = X, y = y, X_valid = X_validation, y_valid = y_validation, iterations=2, show_output=False)"
   ]
  },
  {
   "cell_type": "markdown",
   "metadata": {},
   "source": [
    "### <font color = \"red\">  Action Required \n",
    "<font color = \"red\"> Click on the link that says \"Link to Azure Portal\" in the output of cell above. You will notice that there are a total of 7 runs now (5 original and 2 more with the continue)"
   ]
  },
  {
   "cell_type": "markdown",
   "metadata": {},
   "source": [
    "### Section 4 Recap - \n",
    "\n",
    "You have built a Machine Learning model by running your training jobs on a Data Science Virtual Machine.\n",
    "\n",
    "Automated machine learning also provides an option to run on BatchAI cluster. With BatchAI cluster you can setup a cluster of virtual machines and run iterations in parallel. The cluster is \"managed\" cluster with autoscale functionality. When jobs are completed executing, the VMs get shutdown saving you money. Section 9 shows sample code on how to setup a BatchAI cluster and run on BatchAI. BatchAI is may perform slower than DSVM for the first run."
   ]
  },
  {
   "cell_type": "markdown",
   "metadata": {},
   "source": [
    "# Section 5 - Exploring the results and models"
   ]
  },
  {
   "cell_type": "markdown",
   "metadata": {},
   "source": [
    "\n",
    "## 5.1 Retrieve All Child Runs\n",
    "You can also use sdk methods to fetch all the child runs and see individual metrics that we log for each of the models."
   ]
  },
  {
   "cell_type": "code",
   "execution_count": 42,
   "metadata": {},
   "outputs": [
    {
     "data": {
      "text/html": [
       "<div>\n",
       "<style scoped>\n",
       "    .dataframe tbody tr th:only-of-type {\n",
       "        vertical-align: middle;\n",
       "    }\n",
       "\n",
       "    .dataframe tbody tr th {\n",
       "        vertical-align: top;\n",
       "    }\n",
       "\n",
       "    .dataframe thead th {\n",
       "        text-align: right;\n",
       "    }\n",
       "</style>\n",
       "<table border=\"1\" class=\"dataframe\">\n",
       "  <thead>\n",
       "    <tr style=\"text-align: right;\">\n",
       "      <th></th>\n",
       "      <th>0</th>\n",
       "      <th>1</th>\n",
       "      <th>2</th>\n",
       "      <th>3</th>\n",
       "      <th>4</th>\n",
       "    </tr>\n",
       "  </thead>\n",
       "  <tbody>\n",
       "    <tr>\n",
       "      <th>explained_variance</th>\n",
       "      <td>0.766977</td>\n",
       "      <td>0.332659</td>\n",
       "      <td>0.766977</td>\n",
       "      <td>0.940267</td>\n",
       "      <td>0.940267</td>\n",
       "    </tr>\n",
       "    <tr>\n",
       "      <th>mean_absolute_error</th>\n",
       "      <td>389.251898</td>\n",
       "      <td>761.664205</td>\n",
       "      <td>389.251898</td>\n",
       "      <td>198.758201</td>\n",
       "      <td>198.758201</td>\n",
       "    </tr>\n",
       "    <tr>\n",
       "      <th>median_absolute_error</th>\n",
       "      <td>298.262150</td>\n",
       "      <td>705.434610</td>\n",
       "      <td>298.262150</td>\n",
       "      <td>162.471848</td>\n",
       "      <td>162.471848</td>\n",
       "    </tr>\n",
       "    <tr>\n",
       "      <th>normalized_mean_absolute_error</th>\n",
       "      <td>0.045281</td>\n",
       "      <td>0.088603</td>\n",
       "      <td>0.045281</td>\n",
       "      <td>0.023121</td>\n",
       "      <td>0.023121</td>\n",
       "    </tr>\n",
       "    <tr>\n",
       "      <th>normalized_median_absolute_error</th>\n",
       "      <td>0.034696</td>\n",
       "      <td>0.082062</td>\n",
       "      <td>0.034696</td>\n",
       "      <td>0.018900</td>\n",
       "      <td>0.018900</td>\n",
       "    </tr>\n",
       "    <tr>\n",
       "      <th>normalized_root_mean_squared_error</th>\n",
       "      <td>0.059891</td>\n",
       "      <td>0.107054</td>\n",
       "      <td>0.059891</td>\n",
       "      <td>0.030185</td>\n",
       "      <td>0.030185</td>\n",
       "    </tr>\n",
       "    <tr>\n",
       "      <th>normalized_root_mean_squared_error_min</th>\n",
       "      <td>0.000000</td>\n",
       "      <td>0.059891</td>\n",
       "      <td>0.059891</td>\n",
       "      <td>0.030185</td>\n",
       "      <td>0.030185</td>\n",
       "    </tr>\n",
       "    <tr>\n",
       "      <th>normalized_root_mean_squared_log_error</th>\n",
       "      <td>0.062398</td>\n",
       "      <td>0.117929</td>\n",
       "      <td>0.062398</td>\n",
       "      <td>0.031151</td>\n",
       "      <td>0.031151</td>\n",
       "    </tr>\n",
       "    <tr>\n",
       "      <th>r2_score</th>\n",
       "      <td>0.736092</td>\n",
       "      <td>0.156808</td>\n",
       "      <td>0.736092</td>\n",
       "      <td>0.932963</td>\n",
       "      <td>0.932963</td>\n",
       "    </tr>\n",
       "    <tr>\n",
       "      <th>root_mean_squared_error</th>\n",
       "      <td>514.849727</td>\n",
       "      <td>920.274970</td>\n",
       "      <td>514.849727</td>\n",
       "      <td>259.485075</td>\n",
       "      <td>259.485075</td>\n",
       "    </tr>\n",
       "    <tr>\n",
       "      <th>root_mean_squared_log_error</th>\n",
       "      <td>0.086582</td>\n",
       "      <td>0.163635</td>\n",
       "      <td>0.086582</td>\n",
       "      <td>0.043224</td>\n",
       "      <td>0.043224</td>\n",
       "    </tr>\n",
       "    <tr>\n",
       "      <th>spearman_correlation</th>\n",
       "      <td>0.889958</td>\n",
       "      <td>0.597343</td>\n",
       "      <td>0.889958</td>\n",
       "      <td>0.973076</td>\n",
       "      <td>0.973076</td>\n",
       "    </tr>\n",
       "  </tbody>\n",
       "</table>\n",
       "</div>"
      ],
      "text/plain": [
       "                                                 0           1           2  \\\n",
       "explained_variance                      0.766977    0.332659    0.766977     \n",
       "mean_absolute_error                     389.251898  761.664205  389.251898   \n",
       "median_absolute_error                   298.262150  705.434610  298.262150   \n",
       "normalized_mean_absolute_error          0.045281    0.088603    0.045281     \n",
       "normalized_median_absolute_error        0.034696    0.082062    0.034696     \n",
       "normalized_root_mean_squared_error      0.059891    0.107054    0.059891     \n",
       "normalized_root_mean_squared_error_min  0.000000    0.059891    0.059891     \n",
       "normalized_root_mean_squared_log_error  0.062398    0.117929    0.062398     \n",
       "r2_score                                0.736092    0.156808    0.736092     \n",
       "root_mean_squared_error                 514.849727  920.274970  514.849727   \n",
       "root_mean_squared_log_error             0.086582    0.163635    0.086582     \n",
       "spearman_correlation                    0.889958    0.597343    0.889958     \n",
       "\n",
       "                                                 3           4  \n",
       "explained_variance                      0.940267    0.940267    \n",
       "mean_absolute_error                     198.758201  198.758201  \n",
       "median_absolute_error                   162.471848  162.471848  \n",
       "normalized_mean_absolute_error          0.023121    0.023121    \n",
       "normalized_median_absolute_error        0.018900    0.018900    \n",
       "normalized_root_mean_squared_error      0.030185    0.030185    \n",
       "normalized_root_mean_squared_error_min  0.030185    0.030185    \n",
       "normalized_root_mean_squared_log_error  0.031151    0.031151    \n",
       "r2_score                                0.932963    0.932963    \n",
       "root_mean_squared_error                 259.485075  259.485075  \n",
       "root_mean_squared_log_error             0.043224    0.043224    \n",
       "spearman_correlation                    0.973076    0.973076    "
      ]
     },
     "execution_count": 42,
     "metadata": {},
     "output_type": "execute_result"
    }
   ],
   "source": [
    "children = list(remote_dsvm_run.get_children())\n",
    "metricslist = {}\n",
    "for run in children:\n",
    "    properties = run.get_properties()\n",
    "    metrics = {k: v for k, v in run.get_metrics().items() if isinstance(v, float)}    \n",
    "    metricslist[int(properties['iteration'])] = metrics\n",
    "\n",
    "rundata = pd.DataFrame(metricslist).sort_index(1)\n",
    "rundata"
   ]
  },
  {
   "cell_type": "markdown",
   "metadata": {},
   "source": [
    "## 5.2  Retrieve different Models"
   ]
  },
  {
   "cell_type": "markdown",
   "metadata": {},
   "source": [
    "### 5.21 Best Model based on the primary metric\n",
    "Below we select the best pipeline from our iterations. The *get_output* method on experiment run object returns the best run and the fitted model for the last *fit* invocation. There are overloads on *get_output* that allow you to retrieve the best run and fitted model for *any* logged metric or a particular *iteration*."
   ]
  },
  {
   "cell_type": "code",
   "execution_count": 43,
   "metadata": {},
   "outputs": [
    {
     "name": "stdout",
     "output_type": "stream",
     "text": [
      "Run(Experiment: AutoML_GlobalAI,\n",
      "Id: AutoML_e0a711de-f078-4044-8f95-fbe6baa1eee3_4,\n",
      "Type: None,\n",
      "Status: Completed)\n",
      "Pipeline(memory=None,\n",
      "     steps=[('datatransformer', DataTransformer(logger=None, task=None)), ('prefittedsoftvotingregressor', PreFittedSoftVotingRegressor(estimators=[('RandomForest', Pipeline(memory=None,\n",
      "     steps=[('robustscaler', RobustScaler(copy=True, quantile_range=[10, 90], with_centering=False,\n",
      "       with_scalin...ate=None, verbose=0, warm_start=False))]))],\n",
      "               flatten_transform=None, weights=[1.0]))])\n"
     ]
    }
   ],
   "source": [
    "best_run, fitted_model = local_run.get_output()\n",
    "print(best_run)\n",
    "print(fitted_model)"
   ]
  },
  {
   "cell_type": "markdown",
   "metadata": {},
   "source": [
    "### 5.22 Best Model based on any other metric\n",
    "Show the run and model that has the smallest `root_mean_squared_error` (which turned out to be the same as the one with largest `spearman_correlation` value):"
   ]
  },
  {
   "cell_type": "code",
   "execution_count": 44,
   "metadata": {},
   "outputs": [
    {
     "name": "stdout",
     "output_type": "stream",
     "text": [
      "Run(Experiment: AutoML_GlobalAI,\n",
      "Id: AutoML_e0a711de-f078-4044-8f95-fbe6baa1eee3_4,\n",
      "Type: None,\n",
      "Status: Completed)\n",
      "Pipeline(memory=None,\n",
      "     steps=[('datatransformer', DataTransformer(logger=None, task=None)), ('prefittedsoftvotingregressor', PreFittedSoftVotingRegressor(estimators=[('RandomForest', Pipeline(memory=None,\n",
      "     steps=[('robustscaler', RobustScaler(copy=True, quantile_range=[10, 90], with_centering=False,\n",
      "       with_scalin...ate=None, verbose=0, warm_start=False))]))],\n",
      "               flatten_transform=None, weights=[1.0]))])\n"
     ]
    }
   ],
   "source": [
    "lookup_metric = \"root_mean_squared_error\"\n",
    "best_run, fitted_model = local_run.get_output(metric=lookup_metric)\n",
    "print(best_run)\n",
    "print(fitted_model)"
   ]
  },
  {
   "cell_type": "markdown",
   "metadata": {},
   "source": [
    "### 5.23 Best Model based on any iteration\n",
    "Simply show the run and model from the 2nd iteration from the local run:"
   ]
  },
  {
   "cell_type": "code",
   "execution_count": 45,
   "metadata": {},
   "outputs": [
    {
     "name": "stdout",
     "output_type": "stream",
     "text": [
      "Run(Experiment: AutoML_GlobalAI,\n",
      "Id: AutoML_e0a711de-f078-4044-8f95-fbe6baa1eee3_1,\n",
      "Type: None,\n",
      "Status: Completed)\n",
      "Pipeline(memory=None,\n",
      "     steps=[('datatransformer', DataTransformer(logger=None, task=None)), ('standardscalerwrapper', <automl.client.core.common.model_wrappers.StandardScalerWrapper object at 0x000001FE72FA8B70>), ('randomforestregressor', RandomForestRegressor(bootstrap=False, criterion='mse', max_depth=None,\n",
      "           ...timators=10, n_jobs=1,\n",
      "           oob_score=False, random_state=None, verbose=0, warm_start=False))])\n"
     ]
    }
   ],
   "source": [
    "iteration = 1\n",
    "second_run, second_model = local_run.get_output(iteration = iteration)\n",
    "print(second_run)\n",
    "print(second_model)"
   ]
  },
  {
   "cell_type": "markdown",
   "metadata": {},
   "source": [
    "# Section 6 - Testing the Model"
   ]
  },
  {
   "cell_type": "markdown",
   "metadata": {},
   "source": [
    "### Testing the Fitted Model"
   ]
  },
  {
   "cell_type": "markdown",
   "metadata": {},
   "source": [
    "Predict on training and test set, and calculate residual values."
   ]
  },
  {
   "cell_type": "code",
   "execution_count": 46,
   "metadata": {},
   "outputs": [
    {
     "data": {
      "image/png": "[encoded data removed]",
      "text/plain": [
       "<Figure size 432x288 with 1 Axes>"
      ]
     },
     "metadata": {
      "needs_background": "light"
     },
     "output_type": "display_data"
    }
   ],
   "source": [
    "x_train = train.drop(['demand'], axis=1)\n",
    "y_train = train['demand']\n",
    "y_pred_train = fitted_model.predict(x_train)\n",
    "y_residual_train = y_train - y_pred_train\n",
    "\n",
    "x_test = test.drop(['demand'], axis=1)\n",
    "y_test = test['demand']\n",
    "y_pred_test = fitted_model.predict(x_test)\n",
    "y_residual_test = y_test - y_pred_test\n",
    "\n",
    "plt.plot(x_test['timeStamp'], y_test, label='Actual')\n",
    "plt.plot(x_test['timeStamp'], y_pred_test, label=\"Predicted\")\n",
    "plt.xticks(rotation=90)\n",
    "plt.title('Actual demand vs predicted for test data ')\n",
    "plt.legend()\n",
    "plt.show()"
   ]
  },
  {
   "cell_type": "markdown",
   "metadata": {},
   "source": [
    "# Section 7 -  Register fitted model for deployment"
   ]
  },
  {
   "cell_type": "code",
   "execution_count": 47,
   "metadata": {},
   "outputs": [
    {
     "name": "stdout",
     "output_type": "stream",
     "text": [
      "Registering model AutoMLe0a711defbest\n",
      "AutoMLe0a711defbest\n"
     ]
    }
   ],
   "source": [
    "description = 'AutoML Model'\n",
    "tags = None\n",
    "local_run.register_model(description = description, tags = tags)\n",
    "print(local_run.model_id) # Use this id to deploy the model as a web service in Azure"
   ]
  },
  {
   "cell_type": "markdown",
   "metadata": {},
   "source": [
    "\n",
    "# Section 8 - Setting up on your local machine"
   ]
  },
  {
   "cell_type": "markdown",
   "metadata": {},
   "source": [
    "Visit https://github.com/Azure/MachineLearningNotebooks and go to <b> How to use Azureml > Automated Machine Learning </b> folder. Here you file instructions to setup a local python environment. Click on Readme file. Once on the readme file, go to the section that says \"Running samples in a Local conda environment\". Follow the instructions starting with \"1. Install mini-conda form here.......\"\n",
    "\n",
    "The repro contains also many more sample notebooks.\n",
    "\n"
   ]
  },
  {
   "cell_type": "markdown",
   "metadata": {},
   "source": [
    "## Section 9 - Using AML Compute for training\n",
    "In this section, you run the AutoML experiment in Azure Cloud using Managed Compute (BatchAI). Azure Cloud compute enables you to scale to run lot more iterations. You may have noticed the performance metric of the models created above is still very low. AutoML recommends to run greater than 100 iterations to get a decent model."
   ]
  },
  {
   "cell_type": "markdown",
   "metadata": {},
   "source": [
    "## 9.1 Create and provision a AML Compute cluster\n",
    "BatchAI enables you to create a cluster of Virtual Machines that can autoscale. With this you can run AutoML runs in parallel. \n",
    "\n",
    "You will need to create a [compute target](https://docs.microsoft.com/azure/machine-learning/service/concept-azure-machine-learning-architecture#compute-target) for your AutoML run. In this tutorial, you create `AmlCompute` as your training compute resource.\n",
    "\n",
    "**Creation of AmlCompute takes approximately 5 minutes.** If the AmlCompute with that name is already in your workspace this code will skip the creation process.\n",
    "\n",
    "As with other Azure services, there are limits on certain resources (e.g. AmlCompute) associated with the Azure Machine Learning service. Please read [this article](https://docs.microsoft.com/en-us/azure/machine-learning/service/how-to-manage-quotas) on the default limits and how to request more quota.\n"
   ]
  },
  {
   "cell_type": "code",
   "execution_count": 19,
   "metadata": {},
   "outputs": [
    {
     "name": "stdout",
     "output_type": "stream",
     "text": [
      "Creating a new compute target...\n",
      "Creating\n",
      "Succeeded\n",
      "AmlCompute wait for completion finished\n",
      "Minimum number of nodes requested have been provisioned\n"
     ]
    }
   ],
   "source": [
    "from azureml.core.compute import AmlCompute\n",
    "from azureml.core.compute import ComputeTarget\n",
    "\n",
    "# Choose a name for your cluster.\n",
    "amlcompute_cluster_name = \"automlcl\"\n",
    "\n",
    "found = False\n",
    "# Check if this compute target already exists in the workspace.\n",
    "cts = ws.compute_targets\n",
    "if amlcompute_cluster_name in cts and cts[amlcompute_cluster_name].type == 'AmlCompute':\n",
    "    found = True\n",
    "    print('Found existing compute target.')\n",
    "    compute_target = cts[amlcompute_cluster_name]\n",
    "    \n",
    "if not found:\n",
    "    print('Creating a new compute target...')\n",
    "    provisioning_config = AmlCompute.provisioning_configuration(vm_size = \"STANDARD_D2_V2\", # for GPU, use \"STANDARD_NC6\"\n",
    "                                                                #vm_priority = 'lowpriority', # optional\n",
    "                                                                max_nodes = 6)\n",
    "\n",
    "    # Create the cluster.\n",
    "    compute_target = ComputeTarget.create(ws, amlcompute_cluster_name, provisioning_config)\n",
    "    \n",
    "    # Can poll for a minimum number of nodes and for a specific timeout.\n",
    "    # If no min_node_count is provided, it will use the scale settings for the cluster.\n",
    "    compute_target.wait_for_completion(show_output = True, min_node_count = None, timeout_in_minutes = 20)\n",
    "    \n",
    "     # For a more detailed view of current AmlCompute status, use the 'status' property."
   ]
  },
  {
   "cell_type": "code",
   "execution_count": 20,
   "metadata": {},
   "outputs": [],
   "source": [
    "from azureml.core.runconfig import RunConfiguration\n",
    "from azureml.core.conda_dependencies import CondaDependencies\n",
    "\n",
    "# create a new RunConfig object\n",
    "conda_run_config = RunConfiguration(framework=\"python\")\n",
    "\n",
    "# Set compute target to AmlCompute\n",
    "conda_run_config.target = compute_target\n",
    "conda_run_config.environment.docker.enabled = True\n",
    "conda_run_config.environment.docker.base_image = azureml.core.runconfig.DEFAULT_CPU_IMAGE\n",
    "\n",
    "cd = CondaDependencies.create(pip_packages=['azureml-sdk[automl]'], conda_packages=['numpy'])\n",
    "conda_run_config.environment.python.conda_dependencies = cd"
   ]
  },
  {
   "cell_type": "markdown",
   "metadata": {},
   "source": [
    "## 9.2 Configure AutoMLConfig for AML Compute. \n",
    "The differences from the local config are - set compute_target as the BatchAI cluster, pass the get_data.py script.\n",
    "Notice that you can set concurrent_iterations which will run iterations in parallel (one iteration per node)"
   ]
  },
  {
   "cell_type": "code",
   "execution_count": 22,
   "metadata": {},
   "outputs": [],
   "source": [
    "#AML Compute AutoML Settings\n",
    "\n",
    "automl_config_batch = AutoMLConfig(task = 'regression',\n",
    "                             debug_log = 'automl_errors.log',\n",
    "                             primary_metric = 'normalized_root_mean_squared_error',\n",
    "                             iterations = 30,\n",
    "                             max_concurrent_iterations = 4,\n",
    "                             verbosity = logging.INFO,\n",
    "                             preprocess = True,\n",
    "                             path = project_folder,\n",
    "                             compute_target=compute_target,\n",
    "                             data_script = project_folder + \"/get_data.py\"\n",
    "                            )"
   ]
  },
  {
   "cell_type": "markdown",
   "metadata": {},
   "source": [
    "## 9.3 Training the Model on AML Compute\n",
    "\n",
    "You can call the submit method on the experiment object. For AML compute runs the execution is asynchronous. Initial run could take about 20 minutes as the docker image is being created and setup on the batch cluster node. Depending on the data and number of iterations this can run for while."
   ]
  },
  {
   "cell_type": "code",
   "execution_count": 23,
   "metadata": {},
   "outputs": [],
   "source": [
    "remote_run = experiment.submit(automl_config_batch, show_output = False)"
   ]
  },
  {
   "cell_type": "markdown",
   "metadata": {},
   "source": [
    "## Explore the Results\n",
    "\n",
    "#### Loading executed runs\n",
    "In case you need to load a previously executed run, enable the cell below and replace the `run_id` value."
   ]
  },
  {
   "cell_type": "code",
   "execution_count": null,
   "metadata": {},
   "outputs": [],
   "source": [
    "remote_run = AutoMLRun(experiment = experiment, run_id = 'AutoML_5db13491-c92a-4f1d-b622-8ab8d973a058')"
   ]
  },
  {
   "cell_type": "markdown",
   "metadata": {},
   "source": [
    "#### Widget for Monitoring Runs\n",
    "\n",
    "The widget will first report a \"loading\" status while running the first iteration. After completing the first iteration, an auto-updating graph and table will be shown. The widget will refresh once per minute, so you should see the graph update as child runs complete.\n",
    "\n",
    "You can click on a pipeline to see run properties and output logs.  Logs are also available on the DSVM under `/tmp/azureml_run/{iterationid}/azureml-logs`\n",
    "\n",
    "**Note:** The widget displays a link at the bottom. Use this link to open a web interface to explore the individual run details."
   ]
  },
  {
   "cell_type": "code",
   "execution_count": 25,
   "metadata": {},
   "outputs": [
    {
     "data": {
      "text/html": [
       "<table style=\"width:100%\"><tr><th>Experiment</th><th>Id</th><th>Type</th><th>Status</th><th>Details Page</th><th>Docs Page</th></tr><tr><td>AutoML_GlobalAI</td><td>AutoML_8b0960ed-24f1-4970-96b2-fa3ac373632b</td><td>automl</td><td>Preparing</td><td><a href=\"https://mlworkspace.azure.ai/portal/subscriptions/381b38e9-9840-4719-a5a0-61d9585e1e91/resourceGroups/myrg_nilesha2/providers/Microsoft.MachineLearningServices/workspaces/myws_nilesha2/experiments/AutoML_GlobalAI/runs/AutoML_8b0960ed-24f1-4970-96b2-fa3ac373632b\" target=\"_blank\" rel=\"noopener\">Link to Azure Portal</a></td><td><a href=\"https://docs.microsoft.com/en-us/python/api/overview/azure/ml/intro?view=azure-ml-py\" target=\"_blank\" rel=\"noopener\">Link to Documentation</a></td></tr></table>"
      ],
      "text/plain": [
       "Run(Experiment: AutoML_GlobalAI,\n",
       "Id: AutoML_8b0960ed-24f1-4970-96b2-fa3ac373632b,\n",
       "Type: automl,\n",
       "Status: Preparing)"
      ]
     },
     "execution_count": 25,
     "metadata": {},
     "output_type": "execute_result"
    }
   ],
   "source": [
    "remote_run"
   ]
  },
  {
   "cell_type": "code",
   "execution_count": 26,
   "metadata": {},
   "outputs": [
    {
     "data": {
      "application/vnd.jupyter.widget-view+json": {
       "model_id": "91a8cd69eb72432eb1ab9dcc35faa28f",
       "version_major": 2,
       "version_minor": 0
      },
      "text/plain": [
       "_AutoMLWidget(widget_settings={'childWidgetDisplay': 'popup', 'send_telemetry': True, 'log_level': 'INFO', 'sd…"
      ]
     },
     "metadata": {},
     "output_type": "display_data"
    }
   ],
   "source": [
    "from azureml.widgets import RunDetails\n",
    "RunDetails(remote_run).show() "
   ]
  },
  {
   "cell_type": "code",
   "execution_count": null,
   "metadata": {},
   "outputs": [],
   "source": [
    "# Wait until the run finishes.\n",
    "remote_run.wait_for_completion(show_output = True)"
   ]
  }
 ],
 "metadata": {
  "authors": [
   {
    "name": "savitam"
   }
  ],
  "kernelspec": {
   "display_name": "Python 3",
   "language": "python",
   "name": "python3"
  },
  "language_info": {
   "codemirror_mode": {
    "name": "ipython",
    "version": 3
   },
   "file_extension": ".py",
   "mimetype": "text/x-python",
   "name": "python",
   "nbconvert_exporter": "python",
   "pygments_lexer": "ipython3",
   "version": "3.6.4"
  }
 },
 "nbformat": 4,
 "nbformat_minor": 2
}
